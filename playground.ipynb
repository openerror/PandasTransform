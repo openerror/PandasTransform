{
 "cells": [
  {
   "cell_type": "markdown",
   "metadata": {
    "pycharm": {
     "name": "#%% md\n"
    }
   },
   "source": [
    "# Showcase of custom transformers"
   ]
  },
  {
   "cell_type": "code",
   "execution_count": 1,
   "metadata": {},
   "outputs": [],
   "source": [
    "import matplotlib.pyplot as plt\n",
    "import numpy as np\n",
    "import pandas as pd\n",
    "from sklearn.linear_model import LogisticRegression\n",
    "from sklearn.pipeline import make_pipeline\n",
    "from sklearn.preprocessing import OneHotEncoder, StandardScaler\n",
    "\n",
    "# To automatically reload module after src code changes\n",
    "%load_ext autoreload\n",
    "%autoreload 1\n",
    "%aimport src.ImputeByGroup, src.PandasColumnTransformer\n",
    "from src.ImputeByGroup import ImputeNumericalByGroup, ImputeCategoricalByGroup\n",
    "from src.PandasColumnTransformer import PandasColumnTransformer"
   ]
  },
  {
   "cell_type": "markdown",
   "metadata": {},
   "source": [
    "## Load data"
   ]
  },
  {
   "cell_type": "code",
   "execution_count": 2,
   "metadata": {
    "collapsed": false,
    "jupyter": {
     "outputs_hidden": false
    },
    "pycharm": {
     "name": "#%%\n"
    }
   },
   "outputs": [],
   "source": [
    "raw_train = pd.read_csv(\"tests/titanic_train.csv\")\n",
    "raw_test = pd.read_csv(\"tests/titanic_test.csv\")\n",
    "y_train = raw_train.pop(\"Survived\")"
   ]
  },
  {
   "cell_type": "code",
   "execution_count": 3,
   "metadata": {},
   "outputs": [
    {
     "data": {
      "text/plain": [
       "PassengerId      0\n",
       "Pclass           0\n",
       "Name             0\n",
       "Sex              0\n",
       "Age            177\n",
       "SibSp            0\n",
       "Parch            0\n",
       "Ticket           0\n",
       "Fare             0\n",
       "Cabin          687\n",
       "Embarked         2\n",
       "dtype: int64"
      ]
     },
     "execution_count": 3,
     "metadata": {},
     "output_type": "execute_result"
    }
   ],
   "source": [
    "raw_train.isna().sum()"
   ]
  },
  {
   "cell_type": "code",
   "execution_count": 4,
   "metadata": {},
   "outputs": [
    {
     "data": {
      "text/plain": [
       "PassengerId      0\n",
       "Pclass           0\n",
       "Name             0\n",
       "Sex              0\n",
       "Age             86\n",
       "SibSp            0\n",
       "Parch            0\n",
       "Ticket           0\n",
       "Fare             1\n",
       "Cabin          327\n",
       "Embarked         0\n",
       "dtype: int64"
      ]
     },
     "execution_count": 4,
     "metadata": {},
     "output_type": "execute_result"
    }
   ],
   "source": [
    "raw_test.isna().sum()"
   ]
  },
  {
   "cell_type": "markdown",
   "metadata": {},
   "source": [
    "## Imputation via groupby, as part of a pipeline"
   ]
  },
  {
   "cell_type": "code",
   "execution_count": 5,
   "metadata": {},
   "outputs": [
    {
     "name": "stdout",
     "output_type": "stream",
     "text": [
      "Pclass\n",
      "1    37.0\n",
      "2    29.0\n",
      "3    24.0\n",
      "Name: Age, dtype: float64 \n",
      "\n",
      "28.0\n"
     ]
    }
   ],
   "source": [
    "\"\"\" \n",
    "    Why don't we impute using the dataframe-wide median? Because data contains heterogeneous groups \n",
    "    e.g. 1st-class Titanic passengers tended to be older than 3rd-class passengers\n",
    "\"\"\"\n",
    "\n",
    "print(raw_train.groupby(\"Pclass\")[\"Age\"].median(), \"\\n\")\n",
    "print(raw_train[\"Age\"].median())"
   ]
  },
  {
   "cell_type": "code",
   "execution_count": 6,
   "metadata": {},
   "outputs": [],
   "source": [
    "# copy == False in 2nd step\n",
    "# b/c only need to make copy once to protect original data\n",
    "pl = make_pipeline(\n",
    "    ImputeNumericalByGroup(target_col=\"Age\", groupby_col=[\"Pclass\", \"Embarked\"], return_df=True),\n",
    "    ImputeCategoricalByGroup(target_col=\"Embarked\", groupby_col=[\"Pclass\"], return_df=True, copy=False)\n",
    ").fit(raw_train)"
   ]
  },
  {
   "cell_type": "code",
   "execution_count": 7,
   "metadata": {},
   "outputs": [
    {
     "name": "stdout",
     "output_type": "stream",
     "text": [
      "PassengerId      0\n",
      "Pclass           0\n",
      "Name             0\n",
      "Sex              0\n",
      "Age              0\n",
      "SibSp            0\n",
      "Parch            0\n",
      "Ticket           0\n",
      "Fare             0\n",
      "Cabin          687\n",
      "Embarked         0\n",
      "dtype: int64 \n",
      "\n",
      "PassengerId      0\n",
      "Pclass           0\n",
      "Name             0\n",
      "Sex              0\n",
      "Age              0\n",
      "SibSp            0\n",
      "Parch            0\n",
      "Ticket           0\n",
      "Fare             1\n",
      "Cabin          327\n",
      "Embarked         0\n",
      "dtype: int64\n"
     ]
    }
   ],
   "source": [
    "# No more missing values in Age and Embarked!\n",
    "print(pl.transform(raw_train).isna().sum(), \"\\n\")\n",
    "\n",
    "print(pl.transform(raw_test).isna().sum())"
   ]
  },
  {
   "cell_type": "markdown",
   "metadata": {},
   "source": [
    "## `ColumnTransformer` + `pandas`\n",
    "\n",
    "Train a logistic regression model, and easily attribute each weight to its column."
   ]
  },
  {
   "cell_type": "code",
   "execution_count": 8,
   "metadata": {},
   "outputs": [],
   "source": [
    "\"\"\" PandasColumnTransformer works with pipelines! \"\"\"\n",
    "\n",
    "column_transformer = PandasColumnTransformer([\n",
    "    (\"numerical\", StandardScaler(), [\"Age\", \"Fare\"]),\n",
    "    (\"categorical_cardinal\", OneHotEncoder(), [\"Embarked\"])\n",
    "], remainder=\"drop\")\n",
    "\n",
    "# Repeating the imputation logic in previous section\n",
    "pl = make_pipeline(\n",
    "    ImputeNumericalByGroup(target_col=\"Age\", groupby_col=[\"Pclass\", \"Embarked\"], return_df=True),\n",
    "    ImputeCategoricalByGroup(target_col=\"Embarked\", groupby_col=[\"Pclass\"], return_df=True, copy=False),\n",
    "    column_transformer\n",
    ").fit(raw_train)"
   ]
  },
  {
   "cell_type": "code",
   "execution_count": 9,
   "metadata": {},
   "outputs": [],
   "source": [
    "X_train = pl.transform(raw_train)"
   ]
  },
  {
   "cell_type": "code",
   "execution_count": 10,
   "metadata": {},
   "outputs": [
    {
     "data": {
      "text/plain": [
       "Text(0.5, 0, 'Coefficient size')"
      ]
     },
     "execution_count": 10,
     "metadata": {},
     "output_type": "execute_result"
    },
    {
     "data": {
      "image/png": "[encoded data removed]",
      "text/plain": [
       "<Figure size 432x288 with 1 Axes>"
      ]
     },
     "metadata": {
      "needs_background": "light"
     },
     "output_type": "display_data"
    }
   ],
   "source": [
    "\"\"\" Can quickly see that Fare (Embarked_S) has \n",
    "the largest positive (negative) impact among features used \"\"\"\n",
    "\n",
    "lr = LogisticRegression().fit(X_train, y_train)\n",
    "pd.Series(lr.coef_[0], name=\"coef\", index=X_train.columns).plot.barh()\n",
    "plt.xlabel(\"Coefficient size\")"
   ]
  }
 ],
 "metadata": {
  "kernelspec": {
   "display_name": "Python 3",
   "language": "python",
   "name": "python3"
  },
  "language_info": {
   "codemirror_mode": {
    "name": "ipython",
    "version": 3
   },
   "file_extension": ".py",
   "mimetype": "text/x-python",
   "name": "python",
   "nbconvert_exporter": "python",
   "pygments_lexer": "ipython3",
   "version": "3.8.8"
  }
 },
 "nbformat": 4,
 "nbformat_minor": 4
}
